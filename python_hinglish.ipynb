{
  "nbformat": 4,
  "nbformat_minor": 0,
  "metadata": {
    "colab": {
      "provenance": []
    },
    "kernelspec": {
      "name": "python3",
      "display_name": "Python 3"
    },
    "language_info": {
      "name": "python"
    }
  },
  "cells": [
    {
      "cell_type": "code",
      "execution_count": 1,
      "metadata": {
        "colab": {
          "base_uri": "https://localhost:8080/"
        },
        "id": "YY97Oq1fjEZB",
        "outputId": "c45c18e1-2a63-4104-c7f9-146b08c467f0"
      },
      "outputs": [
        {
          "output_type": "stream",
          "name": "stdout",
          "text": [
            "Hello Wassem\n"
          ]
        }
      ],
      "source": [
        "print(\"Hello Wassem\")"
      ]
    },
    {
      "cell_type": "code",
      "source": [
        "print(\"Muskaan\")"
      ],
      "metadata": {
        "colab": {
          "base_uri": "https://localhost:8080/"
        },
        "id": "bJ6-06PVjgG5",
        "outputId": "acab6c42-93b6-4332-8ea2-621144f7cde0"
      },
      "execution_count": 2,
      "outputs": [
        {
          "output_type": "stream",
          "name": "stdout",
          "text": [
            "Muskaan\n"
          ]
        }
      ]
    },
    {
      "cell_type": "markdown",
      "source": [
        "Hey I love you, you are Future Developer "
      ],
      "metadata": {
        "id": "BeKKpuYklQva"
      }
    },
    {
      "cell_type": "code",
      "source": [
        "# Objects & Data Structures "
      ],
      "metadata": {
        "id": "qO4bUbsijscK"
      },
      "execution_count": 1,
      "outputs": []
    },
    {
      "cell_type": "code",
      "source": [
        "# Solid = dabba \n",
        "# Liquid = bottle \n",
        "# Gas = cylinder \n"
      ],
      "metadata": {
        "id": "3dAoRj-nl_Al"
      },
      "execution_count": 2,
      "outputs": []
    },
    {
      "cell_type": "code",
      "source": [
        "# Whole Number  = integer = int\n",
        "# Decimal Number = float \n",
        "# Word = String "
      ],
      "metadata": {
        "id": "s1wjX_8fm-3l"
      },
      "execution_count": 3,
      "outputs": []
    },
    {
      "cell_type": "code",
      "source": [
        "a = 10 "
      ],
      "metadata": {
        "id": "MtN_Brwnnolh"
      },
      "execution_count": 4,
      "outputs": []
    },
    {
      "cell_type": "code",
      "source": [
        "type(a)"
      ],
      "metadata": {
        "colab": {
          "base_uri": "https://localhost:8080/"
        },
        "id": "5lteNcmEoDWe",
        "outputId": "a26efae8-ceb1-42fb-d9b3-f2d85c35b21a"
      },
      "execution_count": 5,
      "outputs": [
        {
          "output_type": "execute_result",
          "data": {
            "text/plain": [
              "int"
            ]
          },
          "metadata": {},
          "execution_count": 5
        }
      ]
    },
    {
      "cell_type": "code",
      "source": [
        "b = 5.6"
      ],
      "metadata": {
        "id": "rXLFMgj8oF_l"
      },
      "execution_count": 6,
      "outputs": []
    },
    {
      "cell_type": "code",
      "source": [
        "type(b)"
      ],
      "metadata": {
        "colab": {
          "base_uri": "https://localhost:8080/"
        },
        "id": "7GRc5T_MoQau",
        "outputId": "e45d3537-7445-429a-b92e-3a8daae11ebf"
      },
      "execution_count": 7,
      "outputs": [
        {
          "output_type": "execute_result",
          "data": {
            "text/plain": [
              "float"
            ]
          },
          "metadata": {},
          "execution_count": 7
        }
      ]
    },
    {
      "cell_type": "code",
      "source": [
        "c = 'Ishart Ara'"
      ],
      "metadata": {
        "id": "Oft6Oef-oSOp"
      },
      "execution_count": 8,
      "outputs": []
    },
    {
      "cell_type": "code",
      "source": [
        "type(c)"
      ],
      "metadata": {
        "colab": {
          "base_uri": "https://localhost:8080/"
        },
        "id": "WX3uY1BxoZp4",
        "outputId": "afbfdc20-0732-4c27-b798-2efaadcdc3c9"
      },
      "execution_count": 9,
      "outputs": [
        {
          "output_type": "execute_result",
          "data": {
            "text/plain": [
              "str"
            ]
          },
          "metadata": {},
          "execution_count": 9
        }
      ]
    },
    {
      "cell_type": "code",
      "source": [
        "# Variable Assignment ?"
      ],
      "metadata": {
        "id": "YPgT4bi_oaqd"
      },
      "execution_count": 10,
      "outputs": []
    },
    {
      "cell_type": "code",
      "source": [
        "# variable Name ? "
      ],
      "metadata": {
        "id": "f4uEKFispJjH"
      },
      "execution_count": 11,
      "outputs": []
    },
    {
      "cell_type": "code",
      "source": [
        "abc = 100 "
      ],
      "metadata": {
        "id": "_TViC7RnpNiY"
      },
      "execution_count": 12,
      "outputs": []
    },
    {
      "cell_type": "code",
      "source": [
        "keshav_sharam = 1000 "
      ],
      "metadata": {
        "id": "34FyCK_1plHZ"
      },
      "execution_count": 13,
      "outputs": []
    },
    {
      "cell_type": "code",
      "source": [
        "keshav_sharam"
      ],
      "metadata": {
        "colab": {
          "base_uri": "https://localhost:8080/"
        },
        "id": "LcL-OCyQpooz",
        "outputId": "0e3c0546-d848-4c75-f032-e185974978be"
      },
      "execution_count": 14,
      "outputs": [
        {
          "output_type": "execute_result",
          "data": {
            "text/plain": [
              "1000"
            ]
          },
          "metadata": {},
          "execution_count": 14
        }
      ]
    },
    {
      "cell_type": "code",
      "source": [
        "2E4 robert = 99 "
      ],
      "metadata": {
        "colab": {
          "base_uri": "https://localhost:8080/",
          "height": 132
        },
        "id": "tM2QH47gppV_",
        "outputId": "3dfdb93b-6345-432f-ee3c-86b63081f333"
      },
      "execution_count": 15,
      "outputs": [
        {
          "output_type": "error",
          "ename": "SyntaxError",
          "evalue": "ignored",
          "traceback": [
            "\u001b[0;36m  File \u001b[0;32m\"<ipython-input-15-69359918c340>\"\u001b[0;36m, line \u001b[0;32m1\u001b[0m\n\u001b[0;31m    2E4 robert = 99\u001b[0m\n\u001b[0m             ^\u001b[0m\n\u001b[0;31mSyntaxError\u001b[0m\u001b[0;31m:\u001b[0m invalid syntax\n"
          ]
        }
      ]
    },
    {
      "cell_type": "code",
      "source": [
        "2E4robert = 99 "
      ],
      "metadata": {
        "colab": {
          "base_uri": "https://localhost:8080/",
          "height": 132
        },
        "id": "tLQU3VtPpz4-",
        "outputId": "737f459d-1ba8-44d9-96d8-01874c106362"
      },
      "execution_count": 16,
      "outputs": [
        {
          "output_type": "error",
          "ename": "SyntaxError",
          "evalue": "ignored",
          "traceback": [
            "\u001b[0;36m  File \u001b[0;32m\"<ipython-input-16-af6256ea80e2>\"\u001b[0;36m, line \u001b[0;32m1\u001b[0m\n\u001b[0;31m    2E4robert = 99\u001b[0m\n\u001b[0m            ^\u001b[0m\n\u001b[0;31mSyntaxError\u001b[0m\u001b[0;31m:\u001b[0m invalid syntax\n"
          ]
        }
      ]
    },
    {
      "cell_type": "code",
      "source": [
        "E4robert = 99 "
      ],
      "metadata": {
        "id": "zYdyV4Rsp4LA"
      },
      "execution_count": 17,
      "outputs": []
    },
    {
      "cell_type": "code",
      "source": [
        "# List , Dict, Tuple, Set  = Secondary data types "
      ],
      "metadata": {
        "id": "fc3JYJlmp8rG"
      },
      "execution_count": 20,
      "outputs": []
    },
    {
      "cell_type": "code",
      "source": [
        "# List "
      ],
      "metadata": {
        "id": "T4e6H7NqqvWg"
      },
      "execution_count": 21,
      "outputs": []
    },
    {
      "cell_type": "markdown",
      "source": [
        "\n",
        "\n",
        "1.   Milk\n",
        "2.   Bread \n",
        "3.   Chocolates \n",
        "4.   Monster drinks \n",
        "\n",
        "\n"
      ],
      "metadata": {
        "id": "rGIqFwsIrAW1"
      }
    },
    {
      "cell_type": "code",
      "source": [
        "lst = ['milk','bread','chocolate','monster']"
      ],
      "metadata": {
        "id": "E7RT2rhIq_Ru"
      },
      "execution_count": 22,
      "outputs": []
    },
    {
      "cell_type": "code",
      "source": [
        "lst"
      ],
      "metadata": {
        "colab": {
          "base_uri": "https://localhost:8080/"
        },
        "id": "YOfEX-ObrkE0",
        "outputId": "30c15650-4f33-4b59-d7fc-dc20ced617b5"
      },
      "execution_count": 23,
      "outputs": [
        {
          "output_type": "execute_result",
          "data": {
            "text/plain": [
              "['milk', 'bread', 'chocolate', 'monster']"
            ]
          },
          "metadata": {},
          "execution_count": 23
        }
      ]
    },
    {
      "cell_type": "code",
      "source": [
        "lst[0]"
      ],
      "metadata": {
        "colab": {
          "base_uri": "https://localhost:8080/",
          "height": 35
        },
        "id": "rin3QLS9rm9Y",
        "outputId": "b2f0fb44-e158-4157-f50d-ad58bff4afde"
      },
      "execution_count": 25,
      "outputs": [
        {
          "output_type": "execute_result",
          "data": {
            "text/plain": [
              "'milk'"
            ],
            "application/vnd.google.colaboratory.intrinsic+json": {
              "type": "string"
            }
          },
          "metadata": {},
          "execution_count": 25
        }
      ]
    },
    {
      "cell_type": "code",
      "source": [
        "lst[2]"
      ],
      "metadata": {
        "colab": {
          "base_uri": "https://localhost:8080/",
          "height": 35
        },
        "id": "m4CcsqkErtI0",
        "outputId": "e54a2967-ccf8-49db-fbb7-cc6bea7bb277"
      },
      "execution_count": 26,
      "outputs": [
        {
          "output_type": "execute_result",
          "data": {
            "text/plain": [
              "'chocolate'"
            ],
            "application/vnd.google.colaboratory.intrinsic+json": {
              "type": "string"
            }
          },
          "metadata": {},
          "execution_count": 26
        }
      ]
    },
    {
      "cell_type": "code",
      "source": [
        "lst[3]"
      ],
      "metadata": {
        "colab": {
          "base_uri": "https://localhost:8080/",
          "height": 35
        },
        "id": "Vs-sYXJJr_Ug",
        "outputId": "59c6c600-505a-444c-d6e0-823f64f9fab3"
      },
      "execution_count": 27,
      "outputs": [
        {
          "output_type": "execute_result",
          "data": {
            "text/plain": [
              "'monster'"
            ],
            "application/vnd.google.colaboratory.intrinsic+json": {
              "type": "string"
            }
          },
          "metadata": {},
          "execution_count": 27
        }
      ]
    },
    {
      "cell_type": "code",
      "source": [
        "lst[-1]"
      ],
      "metadata": {
        "colab": {
          "base_uri": "https://localhost:8080/",
          "height": 35
        },
        "id": "ZSvkNsAIsM2-",
        "outputId": "a33f694d-ceaf-44b7-a31d-4bf4a5ffd6eb"
      },
      "execution_count": 28,
      "outputs": [
        {
          "output_type": "execute_result",
          "data": {
            "text/plain": [
              "'monster'"
            ],
            "application/vnd.google.colaboratory.intrinsic+json": {
              "type": "string"
            }
          },
          "metadata": {},
          "execution_count": 28
        }
      ]
    },
    {
      "cell_type": "code",
      "source": [
        "lst_names = ['Shubham','Akku','Sai durga', 'Editz','GamerAmit',' Anmol Pinto']"
      ],
      "metadata": {
        "id": "toIDRVeUsOIQ"
      },
      "execution_count": 4,
      "outputs": []
    },
    {
      "cell_type": "code",
      "source": [
        "lst_names"
      ],
      "metadata": {
        "colab": {
          "base_uri": "https://localhost:8080/"
        },
        "id": "uAJbHLwqsiH9",
        "outputId": "1c986db2-2d73-4dab-dca4-cf3639eabdbc"
      },
      "execution_count": 5,
      "outputs": [
        {
          "output_type": "execute_result",
          "data": {
            "text/plain": [
              "['Shubham', 'Akku', 'Sai durga', 'Editz', 'GamerAmit', ' Anmol Pinto']"
            ]
          },
          "metadata": {},
          "execution_count": 5
        }
      ]
    },
    {
      "cell_type": "code",
      "source": [
        "# dict "
      ],
      "metadata": {
        "id": "1DRz6GtYsjvw"
      },
      "execution_count": 32,
      "outputs": []
    },
    {
      "cell_type": "code",
      "source": [
        "# Sai Durga details"
      ],
      "metadata": {
        "id": "BBD9QTmUsp9E"
      },
      "execution_count": 33,
      "outputs": []
    },
    {
      "cell_type": "code",
      "source": [
        "sai_durga_details = [ 'sai durag', 'said@lu.in', '9662454426','mumbai']"
      ],
      "metadata": {
        "id": "RttcnsPltFGk"
      },
      "execution_count": 34,
      "outputs": []
    },
    {
      "cell_type": "code",
      "source": [
        "Anmol = [ \"9662454424\", \"Pune\", 'anmol', 'anmol@lu.in']"
      ],
      "metadata": {
        "id": "f90Wza30tSph"
      },
      "execution_count": 35,
      "outputs": []
    },
    {
      "cell_type": "code",
      "source": [
        "sai_durga_details"
      ],
      "metadata": {
        "colab": {
          "base_uri": "https://localhost:8080/"
        },
        "id": "qTRR3WwLteMJ",
        "outputId": "cc00b880-efed-41c0-d5cc-19551fe24d98"
      },
      "execution_count": 36,
      "outputs": [
        {
          "output_type": "execute_result",
          "data": {
            "text/plain": [
              "['sai durag', 'said@lu.in', '9662454426', 'mumbai']"
            ]
          },
          "metadata": {},
          "execution_count": 36
        }
      ]
    },
    {
      "cell_type": "code",
      "source": [
        "Anmol"
      ],
      "metadata": {
        "colab": {
          "base_uri": "https://localhost:8080/"
        },
        "id": "2mF0bjyPtiwW",
        "outputId": "e4a3ebb3-68a2-4e0d-83e8-e91d62d80f8a"
      },
      "execution_count": 37,
      "outputs": [
        {
          "output_type": "execute_result",
          "data": {
            "text/plain": [
              "['9662454424', 'Pune', 'anmol', 'anmol@lu.in']"
            ]
          },
          "metadata": {},
          "execution_count": 37
        }
      ]
    },
    {
      "cell_type": "code",
      "source": [
        "sai_durga_details[0]"
      ],
      "metadata": {
        "colab": {
          "base_uri": "https://localhost:8080/",
          "height": 35
        },
        "id": "872oD6-HtjxA",
        "outputId": "3fab15bd-7498-410b-c25d-276de58414ab"
      },
      "execution_count": 39,
      "outputs": [
        {
          "output_type": "execute_result",
          "data": {
            "text/plain": [
              "'sai durag'"
            ],
            "application/vnd.google.colaboratory.intrinsic+json": {
              "type": "string"
            }
          },
          "metadata": {},
          "execution_count": 39
        }
      ]
    },
    {
      "cell_type": "code",
      "source": [
        "Anmol[0]"
      ],
      "metadata": {
        "colab": {
          "base_uri": "https://localhost:8080/",
          "height": 35
        },
        "id": "WLv7M1CCtr-b",
        "outputId": "4b75a74f-e813-4f93-ef9e-bb697853f46e"
      },
      "execution_count": 40,
      "outputs": [
        {
          "output_type": "execute_result",
          "data": {
            "text/plain": [
              "'9662454424'"
            ],
            "application/vnd.google.colaboratory.intrinsic+json": {
              "type": "string"
            }
          },
          "metadata": {},
          "execution_count": 40
        }
      ]
    },
    {
      "cell_type": "code",
      "source": [
        "#dict "
      ],
      "metadata": {
        "id": "gUUm8Jz7tvEQ"
      },
      "execution_count": 41,
      "outputs": []
    },
    {
      "cell_type": "code",
      "source": [
        "anu = {'key1':1,'key2':2,'key3':3}"
      ],
      "metadata": {
        "id": "pvPgQQMRt52d"
      },
      "execution_count": 44,
      "outputs": []
    },
    {
      "cell_type": "code",
      "source": [
        "anu"
      ],
      "metadata": {
        "colab": {
          "base_uri": "https://localhost:8080/"
        },
        "id": "tTAnVguhuKwd",
        "outputId": "a4d23ea6-4a69-4120-c647-04d386529b49"
      },
      "execution_count": 45,
      "outputs": [
        {
          "output_type": "execute_result",
          "data": {
            "text/plain": [
              "{'key1': 1, 'key2': 2, 'key3': 3}"
            ]
          },
          "metadata": {},
          "execution_count": 45
        }
      ]
    },
    {
      "cell_type": "code",
      "source": [
        "Om = {'name':'Om','email':'om@lu.in',\"mobile\":\"9662454420\",\"city\":\"mumbai\"}"
      ],
      "metadata": {
        "id": "SqI1VyG3uLfg"
      },
      "execution_count": 46,
      "outputs": []
    },
    {
      "cell_type": "code",
      "source": [
        "Bhargav = {\"mobile\":\"9662454420\",'name':'Bhargav',\"city\":\"pune\", 'email':'bhargav@lu.in'}"
      ],
      "metadata": {
        "id": "M85ESr9buhLx"
      },
      "execution_count": 47,
      "outputs": []
    },
    {
      "cell_type": "code",
      "source": [
        "Om['email']"
      ],
      "metadata": {
        "colab": {
          "base_uri": "https://localhost:8080/",
          "height": 35
        },
        "id": "wojQyDCUu19-",
        "outputId": "b2800891-9f4e-4818-b54b-7d98160a2a97"
      },
      "execution_count": 51,
      "outputs": [
        {
          "output_type": "execute_result",
          "data": {
            "text/plain": [
              "'om@lu.in'"
            ],
            "application/vnd.google.colaboratory.intrinsic+json": {
              "type": "string"
            }
          },
          "metadata": {},
          "execution_count": 51
        }
      ]
    },
    {
      "cell_type": "code",
      "source": [
        "Bhargav['email']"
      ],
      "metadata": {
        "colab": {
          "base_uri": "https://localhost:8080/",
          "height": 35
        },
        "id": "1U1mKb6wu4Da",
        "outputId": "cda06331-0104-4cdb-ce52-847d25751c71"
      },
      "execution_count": 52,
      "outputs": [
        {
          "output_type": "execute_result",
          "data": {
            "text/plain": [
              "'bhargav@lu.in'"
            ],
            "application/vnd.google.colaboratory.intrinsic+json": {
              "type": "string"
            }
          },
          "metadata": {},
          "execution_count": 52
        }
      ]
    },
    {
      "cell_type": "code",
      "source": [
        "# Tuple , Set, Bool "
      ],
      "metadata": {
        "id": "P3pucC-Hu7k1"
      },
      "execution_count": 1,
      "outputs": []
    },
    {
      "cell_type": "code",
      "source": [
        "tup = (\"sai\",\"kiran\",\"loves\",\"you\",\"all\")"
      ],
      "metadata": {
        "id": "QzFz0j3vtvLa"
      },
      "execution_count": 2,
      "outputs": []
    },
    {
      "cell_type": "code",
      "source": [
        "tup "
      ],
      "metadata": {
        "colab": {
          "base_uri": "https://localhost:8080/"
        },
        "id": "FmoLOG_St8e3",
        "outputId": "d62d4869-fa5f-4683-818f-f5fac532469f"
      },
      "execution_count": 3,
      "outputs": [
        {
          "output_type": "execute_result",
          "data": {
            "text/plain": [
              "('sai', 'kiran', 'loves', 'you', 'all')"
            ]
          },
          "metadata": {},
          "execution_count": 3
        }
      ]
    },
    {
      "cell_type": "code",
      "source": [
        "lst_names"
      ],
      "metadata": {
        "colab": {
          "base_uri": "https://localhost:8080/"
        },
        "id": "JTFqnecyt9AF",
        "outputId": "4c4e499f-0ac5-482d-b8ce-101732bfe68d"
      },
      "execution_count": 6,
      "outputs": [
        {
          "output_type": "execute_result",
          "data": {
            "text/plain": [
              "['Shubham', 'Akku', 'Sai durga', 'Editz', 'GamerAmit', ' Anmol Pinto']"
            ]
          },
          "metadata": {},
          "execution_count": 6
        }
      ]
    },
    {
      "cell_type": "code",
      "source": [
        "lst_names[0] = \"Anshu\""
      ],
      "metadata": {
        "id": "mv1zTgSPuGa2"
      },
      "execution_count": 7,
      "outputs": []
    },
    {
      "cell_type": "code",
      "source": [
        "lst_names"
      ],
      "metadata": {
        "colab": {
          "base_uri": "https://localhost:8080/"
        },
        "id": "cCeDwt2tuMYG",
        "outputId": "80504057-49a9-42f6-ac76-26d2842e2511"
      },
      "execution_count": 8,
      "outputs": [
        {
          "output_type": "execute_result",
          "data": {
            "text/plain": [
              "['Anshu', 'Akku', 'Sai durga', 'Editz', 'GamerAmit', ' Anmol Pinto']"
            ]
          },
          "metadata": {},
          "execution_count": 8
        }
      ]
    },
    {
      "cell_type": "code",
      "source": [
        "tup[0] = \"LetsUpgrade\""
      ],
      "metadata": {
        "colab": {
          "base_uri": "https://localhost:8080/",
          "height": 167
        },
        "id": "X31okhMDuN2J",
        "outputId": "66ceefea-9f7d-4858-daa8-462b096bbb77"
      },
      "execution_count": 9,
      "outputs": [
        {
          "output_type": "error",
          "ename": "TypeError",
          "evalue": "ignored",
          "traceback": [
            "\u001b[0;31m---------------------------------------------------------------------------\u001b[0m",
            "\u001b[0;31mTypeError\u001b[0m                                 Traceback (most recent call last)",
            "\u001b[0;32m<ipython-input-9-d11f1ffef0e0>\u001b[0m in \u001b[0;36m<module>\u001b[0;34m\u001b[0m\n\u001b[0;32m----> 1\u001b[0;31m \u001b[0mtup\u001b[0m\u001b[0;34m[\u001b[0m\u001b[0;36m0\u001b[0m\u001b[0;34m]\u001b[0m \u001b[0;34m=\u001b[0m \u001b[0;34m\"LetsUpgrade\"\u001b[0m\u001b[0;34m\u001b[0m\u001b[0;34m\u001b[0m\u001b[0m\n\u001b[0m",
            "\u001b[0;31mTypeError\u001b[0m: 'tuple' object does not support item assignment"
          ]
        }
      ]
    },
    {
      "cell_type": "code",
      "source": [
        "# set "
      ],
      "metadata": {
        "id": "7zV7et-_uaXY"
      },
      "execution_count": 10,
      "outputs": []
    },
    {
      "cell_type": "code",
      "source": [
        "st = {1,1,1,1,1,2,3,4,4,4,5}"
      ],
      "metadata": {
        "id": "9_jcqO2mutRy"
      },
      "execution_count": 11,
      "outputs": []
    },
    {
      "cell_type": "code",
      "source": [
        "st"
      ],
      "metadata": {
        "colab": {
          "base_uri": "https://localhost:8080/"
        },
        "id": "YcfYkkQFu9Gl",
        "outputId": "7c246b67-b817-4033-d40d-9efe78e6df49"
      },
      "execution_count": 12,
      "outputs": [
        {
          "output_type": "execute_result",
          "data": {
            "text/plain": [
              "{1, 2, 3, 4, 5}"
            ]
          },
          "metadata": {},
          "execution_count": 12
        }
      ]
    },
    {
      "cell_type": "code",
      "source": [
        "st1 = {4,4,4,3,2,2,2,7,7,7,1,1,1,1}"
      ],
      "metadata": {
        "id": "TVkvc373u9q_"
      },
      "execution_count": 13,
      "outputs": []
    },
    {
      "cell_type": "code",
      "source": [
        "st1"
      ],
      "metadata": {
        "colab": {
          "base_uri": "https://localhost:8080/"
        },
        "id": "oO3Q1E8JvIRq",
        "outputId": "d6c5b9d3-1354-470b-ce3b-bea609f7f7c0"
      },
      "execution_count": 14,
      "outputs": [
        {
          "output_type": "execute_result",
          "data": {
            "text/plain": [
              "{1, 2, 3, 4, 7}"
            ]
          },
          "metadata": {},
          "execution_count": 14
        }
      ]
    },
    {
      "cell_type": "code",
      "source": [
        "# Boolean "
      ],
      "metadata": {
        "id": "b6y_NrHgvJDU"
      },
      "execution_count": 15,
      "outputs": []
    },
    {
      "cell_type": "code",
      "source": [
        "abc = False"
      ],
      "metadata": {
        "id": "f5Cl59y7vWJ0"
      },
      "execution_count": 20,
      "outputs": []
    },
    {
      "cell_type": "code",
      "source": [
        "type(abc)"
      ],
      "metadata": {
        "colab": {
          "base_uri": "https://localhost:8080/"
        },
        "id": "J_Ik58-UvkDK",
        "outputId": "5ec95857-1047-4483-e7bf-b69b432a23b3"
      },
      "execution_count": 21,
      "outputs": [
        {
          "output_type": "execute_result",
          "data": {
            "text/plain": [
              "bool"
            ]
          },
          "metadata": {},
          "execution_count": 21
        }
      ]
    },
    {
      "cell_type": "code",
      "source": [
        "# Operators, IF else, For Loop, While loop\n"
      ],
      "metadata": {
        "id": "rqBuka9fvlkZ"
      },
      "execution_count": 22,
      "outputs": []
    },
    {
      "cell_type": "code",
      "source": [
        "# comparions operators "
      ],
      "metadata": {
        "id": "J2ONdRmev0-n"
      },
      "execution_count": 23,
      "outputs": []
    },
    {
      "cell_type": "code",
      "source": [
        "#1. equal to \n",
        "#2. not equal to \n",
        "#3. greater than \n",
        "#4. less than\n",
        "#5. greater than equal to \n",
        "#6. less than equal to \n"
      ],
      "metadata": {
        "id": "bE8p2QSmwqiJ"
      },
      "execution_count": 24,
      "outputs": []
    },
    {
      "cell_type": "code",
      "source": [
        "a = 10 "
      ],
      "metadata": {
        "id": "AH2z52fbxu8h"
      },
      "execution_count": 25,
      "outputs": []
    },
    {
      "cell_type": "code",
      "source": [
        "b = 20 "
      ],
      "metadata": {
        "id": "qKJ1B9zdxxkz"
      },
      "execution_count": 26,
      "outputs": []
    },
    {
      "cell_type": "code",
      "source": [
        "a == b "
      ],
      "metadata": {
        "colab": {
          "base_uri": "https://localhost:8080/"
        },
        "id": "YxKrnR0uxyTq",
        "outputId": "be066609-baf6-4d1f-cb5c-d2d1722d9d7b"
      },
      "execution_count": 27,
      "outputs": [
        {
          "output_type": "execute_result",
          "data": {
            "text/plain": [
              "False"
            ]
          },
          "metadata": {},
          "execution_count": 27
        }
      ]
    },
    {
      "cell_type": "code",
      "source": [
        "a != b "
      ],
      "metadata": {
        "colab": {
          "base_uri": "https://localhost:8080/"
        },
        "id": "l0wolmokxzkM",
        "outputId": "508ad262-8813-4942-e207-83e7a98f9b6b"
      },
      "execution_count": 28,
      "outputs": [
        {
          "output_type": "execute_result",
          "data": {
            "text/plain": [
              "True"
            ]
          },
          "metadata": {},
          "execution_count": 28
        }
      ]
    },
    {
      "cell_type": "code",
      "source": [
        "a < b "
      ],
      "metadata": {
        "colab": {
          "base_uri": "https://localhost:8080/"
        },
        "id": "caPyg_e1x8Uo",
        "outputId": "b3cd93dd-0a98-41ee-d588-840a25ef5837"
      },
      "execution_count": 29,
      "outputs": [
        {
          "output_type": "execute_result",
          "data": {
            "text/plain": [
              "True"
            ]
          },
          "metadata": {},
          "execution_count": 29
        }
      ]
    },
    {
      "cell_type": "code",
      "source": [
        "a > b "
      ],
      "metadata": {
        "colab": {
          "base_uri": "https://localhost:8080/"
        },
        "id": "OBeHZEXlx-Gi",
        "outputId": "d31a3ff9-3f6d-400a-e8dd-38a8a1cd68f9"
      },
      "execution_count": 30,
      "outputs": [
        {
          "output_type": "execute_result",
          "data": {
            "text/plain": [
              "False"
            ]
          },
          "metadata": {},
          "execution_count": 30
        }
      ]
    },
    {
      "cell_type": "code",
      "source": [
        "a <= b "
      ],
      "metadata": {
        "colab": {
          "base_uri": "https://localhost:8080/"
        },
        "id": "qranbfdBx-qg",
        "outputId": "2439e799-bc8c-4c00-b12f-11ccfb93660e"
      },
      "execution_count": 31,
      "outputs": [
        {
          "output_type": "execute_result",
          "data": {
            "text/plain": [
              "True"
            ]
          },
          "metadata": {},
          "execution_count": 31
        }
      ]
    },
    {
      "cell_type": "code",
      "source": [
        "a >= b"
      ],
      "metadata": {
        "colab": {
          "base_uri": "https://localhost:8080/"
        },
        "id": "H10naTcWx_a-",
        "outputId": "aad1d13c-5a5c-4ea8-a3fb-8eafe6f7c6ef"
      },
      "execution_count": 32,
      "outputs": [
        {
          "output_type": "execute_result",
          "data": {
            "text/plain": [
              "False"
            ]
          },
          "metadata": {},
          "execution_count": 32
        }
      ]
    },
    {
      "cell_type": "code",
      "source": [
        "# if elif and else "
      ],
      "metadata": {
        "id": "Wpw_xNFQyAbM"
      },
      "execution_count": 33,
      "outputs": []
    },
    {
      "cell_type": "code",
      "source": [
        "live_count = 170 \n",
        "\n",
        "if live_count >= 200:\n",
        "  print(\"sai will teach for 6 day \")\n",
        "else:\n",
        "  print(\"sai will teach for 5 days only \")"
      ],
      "metadata": {
        "colab": {
          "base_uri": "https://localhost:8080/"
        },
        "id": "2kO4n_ERyWK-",
        "outputId": "2360ec79-318a-4a95-cfe8-405b8af48f8d"
      },
      "execution_count": 39,
      "outputs": [
        {
          "output_type": "stream",
          "name": "stdout",
          "text": [
            "sai will teach for 5 days only \n"
          ]
        }
      ]
    },
    {
      "cell_type": "code",
      "source": [
        "marks = 91 \n",
        "\n",
        "if marks >= 90:\n",
        "  print(\"A\")\n",
        "elif marks >= 80:\n",
        "  print(\"B\")\n",
        "else:\n",
        "  print('C')"
      ],
      "metadata": {
        "colab": {
          "base_uri": "https://localhost:8080/"
        },
        "id": "pi3lFDHHy547",
        "outputId": "46613ae6-25af-4dab-df7c-3cf202ac4edc"
      },
      "execution_count": 41,
      "outputs": [
        {
          "output_type": "stream",
          "name": "stdout",
          "text": [
            "A\n"
          ]
        }
      ]
    },
    {
      "cell_type": "code",
      "source": [
        "# Day 3 Assignment \n",
        "\n",
        "\n",
        "#Write a Python program to check if a number is Odd or even "
      ],
      "metadata": {
        "id": "EWGCe3re0EAX"
      },
      "execution_count": 43,
      "outputs": []
    },
    {
      "cell_type": "code",
      "source": [
        "# Loops "
      ],
      "metadata": {
        "id": "qaERHbQT0mCd"
      },
      "execution_count": 44,
      "outputs": []
    },
    {
      "cell_type": "code",
      "source": [
        "# When u want to repeat something again and again , \n",
        "# that time we use loops "
      ],
      "metadata": {
        "id": "SBuesNnO1BS9"
      },
      "execution_count": 46,
      "outputs": []
    },
    {
      "cell_type": "code",
      "source": [
        "# For loop and While Loop "
      ],
      "metadata": {
        "id": "dfARatxt1eW7"
      },
      "execution_count": 48,
      "outputs": []
    },
    {
      "cell_type": "code",
      "source": [
        "# for Loop "
      ],
      "metadata": {
        "id": "JelAFcPB1jrV"
      },
      "execution_count": 49,
      "outputs": []
    },
    {
      "cell_type": "code",
      "source": [
        "lst_names"
      ],
      "metadata": {
        "colab": {
          "base_uri": "https://localhost:8080/"
        },
        "id": "FUk_Er0n1me3",
        "outputId": "284a3c12-5528-4073-c87a-70ec77746a08"
      },
      "execution_count": 50,
      "outputs": [
        {
          "output_type": "execute_result",
          "data": {
            "text/plain": [
              "['Anshu', 'Akku', 'Sai durga', 'Editz', 'GamerAmit', ' Anmol Pinto']"
            ]
          },
          "metadata": {},
          "execution_count": 50
        }
      ]
    },
    {
      "cell_type": "code",
      "source": [
        "for x in lst_names:\n",
        "  print('Hey,',x)\n",
        "  print(\"I want to you compelte this program\")\n",
        "else:\n",
        "  print(\"\")\n",
        "  print(\"Loop ktm ho gaya hai bhaisahab, ghar javaooo\")"
      ],
      "metadata": {
        "colab": {
          "base_uri": "https://localhost:8080/"
        },
        "id": "NvawEJBJ1pBw",
        "outputId": "da9e9a2d-e6e3-432f-893e-c9f5e2ccba9e"
      },
      "execution_count": 58,
      "outputs": [
        {
          "output_type": "stream",
          "name": "stdout",
          "text": [
            "Hey, Anshu\n",
            "I want to you compelte this program\n",
            "Hey, Akku\n",
            "I want to you compelte this program\n",
            "Hey, Sai durga\n",
            "I want to you compelte this program\n",
            "Hey, Editz\n",
            "I want to you compelte this program\n",
            "Hey, GamerAmit\n",
            "I want to you compelte this program\n",
            "Hey,  Anmol Pinto\n",
            "I want to you compelte this program\n",
            "\n",
            "Loop ktm ho gaya hai bhaisahab, ghar javaooo\n"
          ]
        }
      ]
    },
    {
      "cell_type": "code",
      "source": [
        "# while loop "
      ],
      "metadata": {
        "id": "SfY-mFuY13VV"
      },
      "execution_count": 59,
      "outputs": []
    },
    {
      "cell_type": "code",
      "source": [
        "maria = 20 \n",
        "\n",
        "while maria < 60:\n",
        "  print(\"Hey you can work, your age now is \", maria )\n",
        "  maria = maria + 1 \n",
        "\n",
        "else:\n",
        "  print(\"\")\n",
        "  print(\"Bhai bht kamm kar liyaa abhi aramm karoo !! \")"
      ],
      "metadata": {
        "colab": {
          "base_uri": "https://localhost:8080/"
        },
        "id": "OoqJf4iF2o95",
        "outputId": "c7d2b2ce-2784-49f1-d030-e88aa72a0ba0"
      },
      "execution_count": 64,
      "outputs": [
        {
          "output_type": "stream",
          "name": "stdout",
          "text": [
            "Hey you can work, your age now is  20\n",
            "Hey you can work, your age now is  21\n",
            "Hey you can work, your age now is  22\n",
            "Hey you can work, your age now is  23\n",
            "Hey you can work, your age now is  24\n",
            "Hey you can work, your age now is  25\n",
            "Hey you can work, your age now is  26\n",
            "Hey you can work, your age now is  27\n",
            "Hey you can work, your age now is  28\n",
            "Hey you can work, your age now is  29\n",
            "Hey you can work, your age now is  30\n",
            "Hey you can work, your age now is  31\n",
            "Hey you can work, your age now is  32\n",
            "Hey you can work, your age now is  33\n",
            "Hey you can work, your age now is  34\n",
            "Hey you can work, your age now is  35\n",
            "Hey you can work, your age now is  36\n",
            "Hey you can work, your age now is  37\n",
            "Hey you can work, your age now is  38\n",
            "Hey you can work, your age now is  39\n",
            "Hey you can work, your age now is  40\n",
            "Hey you can work, your age now is  41\n",
            "Hey you can work, your age now is  42\n",
            "Hey you can work, your age now is  43\n",
            "Hey you can work, your age now is  44\n",
            "Hey you can work, your age now is  45\n",
            "Hey you can work, your age now is  46\n",
            "Hey you can work, your age now is  47\n",
            "Hey you can work, your age now is  48\n",
            "Hey you can work, your age now is  49\n",
            "Hey you can work, your age now is  50\n",
            "Hey you can work, your age now is  51\n",
            "Hey you can work, your age now is  52\n",
            "Hey you can work, your age now is  53\n",
            "Hey you can work, your age now is  54\n",
            "Hey you can work, your age now is  55\n",
            "Hey you can work, your age now is  56\n",
            "Hey you can work, your age now is  57\n",
            "Hey you can work, your age now is  58\n",
            "Hey you can work, your age now is  59\n",
            "\n",
            "Bhai bht kamm kar liyaa abhi aramm karoo !! \n"
          ]
        }
      ]
    },
    {
      "cell_type": "code",
      "source": [
        "# functions "
      ],
      "metadata": {
        "id": "UbjVANe53c5h"
      },
      "execution_count": 1,
      "outputs": []
    },
    {
      "cell_type": "code",
      "source": [
        "name = \"Ishart\"\n",
        "print('Hey',name)\n",
        "print(\"hello\",name)\n",
        "print(\"Hola\",name)\n",
        "print(\"Namsate\", name)\n",
        "name1 = \"Vinodh\"\n",
        "print('Hey',name1)\n",
        "print(\"hello\",name1)\n",
        "print(\"Hola\",name1)\n",
        "print(\"Namsate\", name1)"
      ],
      "metadata": {
        "colab": {
          "base_uri": "https://localhost:8080/"
        },
        "id": "7yttU-6kdngl",
        "outputId": "194e69c9-7420-4c05-eba4-5d3bf64e4163"
      },
      "execution_count": 3,
      "outputs": [
        {
          "output_type": "stream",
          "name": "stdout",
          "text": [
            "Hey Ishart\n",
            "hello Ishart\n",
            "Hola Ishart\n",
            "Namsate Ishart\n",
            "Hey Vinodh\n",
            "hello Vinodh\n",
            "Hola Vinodh\n",
            "Namsate Vinodh\n"
          ]
        }
      ]
    },
    {
      "cell_type": "code",
      "source": [
        "def nancy(name):\n",
        "  print('Hey',name)\n",
        "  print(\"hello\",name)\n",
        "  print(\"Hola\",name)\n",
        "  print(\"Namsate\", name)"
      ],
      "metadata": {
        "id": "u0tYdgfxeEyr"
      },
      "execution_count": 8,
      "outputs": []
    },
    {
      "cell_type": "code",
      "source": [
        "nancy(\"ajay\")"
      ],
      "metadata": {
        "colab": {
          "base_uri": "https://localhost:8080/"
        },
        "id": "FNXnuHE5eYqr",
        "outputId": "aedd09b3-2afc-4059-f9c9-72b0aa53365f"
      },
      "execution_count": 9,
      "outputs": [
        {
          "output_type": "stream",
          "name": "stdout",
          "text": [
            "Hey ajay\n",
            "hello ajay\n",
            "Hola ajay\n",
            "Namsate ajay\n"
          ]
        }
      ]
    },
    {
      "cell_type": "code",
      "source": [
        "namaste(\"Gru\")"
      ],
      "metadata": {
        "colab": {
          "base_uri": "https://localhost:8080/"
        },
        "id": "yz9ER5RIebDN",
        "outputId": "c4ffa23b-403f-422a-d0cd-77193223d55c"
      },
      "execution_count": 6,
      "outputs": [
        {
          "output_type": "stream",
          "name": "stdout",
          "text": [
            "Hey Gru\n",
            "hello Gru\n",
            "Hola Gru\n",
            "Namsate Gru\n"
          ]
        }
      ]
    },
    {
      "cell_type": "code",
      "source": [
        "namaste(\"Aditya\")"
      ],
      "metadata": {
        "colab": {
          "base_uri": "https://localhost:8080/"
        },
        "id": "ZQWiUnyoeeNi",
        "outputId": "e105abd6-e39d-46a7-d460-29244aff631f"
      },
      "execution_count": 7,
      "outputs": [
        {
          "output_type": "stream",
          "name": "stdout",
          "text": [
            "Hey Aditya\n",
            "hello Aditya\n",
            "Hola Aditya\n",
            "Namsate Aditya\n"
          ]
        }
      ]
    },
    {
      "cell_type": "code",
      "source": [
        "# Def a function to find out if a number is \n",
        "# Odd or even "
      ],
      "metadata": {
        "id": "BGddoT_fegC6"
      },
      "execution_count": 15,
      "outputs": []
    },
    {
      "cell_type": "code",
      "source": [
        "def oddOrEven(num):\n",
        "  #logic = when you divide a even num with 2 it should give 0 as reminder \n",
        "  if num%2 == 0:\n",
        "    print(\"Its a even number\")\n",
        "  else:\n",
        "    print(\"Its a odd number\")\n"
      ],
      "metadata": {
        "id": "o7IrhcsafZXx"
      },
      "execution_count": 11,
      "outputs": []
    },
    {
      "cell_type": "code",
      "source": [
        "oddOrEven(3)"
      ],
      "metadata": {
        "colab": {
          "base_uri": "https://localhost:8080/"
        },
        "id": "IztfTQuYf4g9",
        "outputId": "f04420d6-6ef3-4da4-946a-0c325d6ba70d"
      },
      "execution_count": 12,
      "outputs": [
        {
          "output_type": "stream",
          "name": "stdout",
          "text": [
            "Its a odd number\n"
          ]
        }
      ]
    },
    {
      "cell_type": "code",
      "source": [
        "oddOrEven(1775)"
      ],
      "metadata": {
        "colab": {
          "base_uri": "https://localhost:8080/"
        },
        "id": "dcErtuUcf7N2",
        "outputId": "6cc11910-15c4-4f9b-f755-77f3c570fa01"
      },
      "execution_count": 13,
      "outputs": [
        {
          "output_type": "stream",
          "name": "stdout",
          "text": [
            "Its a odd number\n"
          ]
        }
      ]
    },
    {
      "cell_type": "code",
      "source": [
        "oddOrEven(24)"
      ],
      "metadata": {
        "colab": {
          "base_uri": "https://localhost:8080/"
        },
        "id": "muAZCygEgCgE",
        "outputId": "e380c9fa-12a3-4d90-b5cd-0835af4c2859"
      },
      "execution_count": 14,
      "outputs": [
        {
          "output_type": "stream",
          "name": "stdout",
          "text": [
            "Its a even number\n"
          ]
        }
      ]
    },
    {
      "cell_type": "code",
      "source": [
        "# Write a program which has a function to find \n",
        "# out a number is prime number or not "
      ],
      "metadata": {
        "id": "wR6meEg6gFzO"
      },
      "execution_count": null,
      "outputs": []
    }
  ]
}